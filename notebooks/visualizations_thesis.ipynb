{
 "cells": [
  {
   "cell_type": "markdown",
   "metadata": {},
   "source": [
    "# Continuous Diffusion"
   ]
  },
  {
   "cell_type": "code",
   "execution_count": 2,
   "metadata": {},
   "outputs": [
    {
     "name": "stdout",
     "output_type": "stream",
     "text": [
      "Saved: /ceph/hdd/students/schmitj/MA_Diffusion_based_trajectory_prediction/figures/continuous_diffusion/noised_image_step_0.png\n",
      "Saved: /ceph/hdd/students/schmitj/MA_Diffusion_based_trajectory_prediction/figures/continuous_diffusion/noised_image_step_10.png\n",
      "Saved: /ceph/hdd/students/schmitj/MA_Diffusion_based_trajectory_prediction/figures/continuous_diffusion/noised_image_step_20.png\n",
      "Saved: /ceph/hdd/students/schmitj/MA_Diffusion_based_trajectory_prediction/figures/continuous_diffusion/noised_image_step_30.png\n",
      "Saved: /ceph/hdd/students/schmitj/MA_Diffusion_based_trajectory_prediction/figures/continuous_diffusion/noised_image_step_40.png\n",
      "Saved: /ceph/hdd/students/schmitj/MA_Diffusion_based_trajectory_prediction/figures/continuous_diffusion/noised_image_step_50.png\n",
      "Saved: /ceph/hdd/students/schmitj/MA_Diffusion_based_trajectory_prediction/figures/continuous_diffusion/noised_image_step_60.png\n",
      "Saved: /ceph/hdd/students/schmitj/MA_Diffusion_based_trajectory_prediction/figures/continuous_diffusion/noised_image_step_70.png\n",
      "Saved: /ceph/hdd/students/schmitj/MA_Diffusion_based_trajectory_prediction/figures/continuous_diffusion/noised_image_step_80.png\n",
      "Saved: /ceph/hdd/students/schmitj/MA_Diffusion_based_trajectory_prediction/figures/continuous_diffusion/noised_image_step_90.png\n"
     ]
    }
   ],
   "source": [
    "import torch\n",
    "import numpy as np\n",
    "from PIL import Image\n",
    "import matplotlib.pyplot as plt\n",
    "import os\n",
    "\n",
    "def load_image(image_path, size=None):\n",
    "    \"\"\"Load an image from a file path and optionally resize it.\"\"\"\n",
    "    img = Image.open(image_path).convert('RGB')\n",
    "    '''if size:\n",
    "        img = img.resize((size, size), Image.ANTIALIAS)'''\n",
    "    return img\n",
    "\n",
    "def image_to_tensor(image):\n",
    "    \"\"\"Convert a PIL image to a PyTorch tensor.\"\"\"\n",
    "    tensor = torch.from_numpy(np.array(image)).float()\n",
    "    return tensor.permute(2, 0, 1) / 255  # Normalize to [0, 1]\n",
    "\n",
    "def tensor_to_image(tensor):\n",
    "    \"\"\"Convert a PyTorch tensor to a PIL image.\"\"\"\n",
    "    image = tensor.permute(1, 2, 0).cpu().numpy()\n",
    "    image = np.clip(image * 255, 0, 255).astype(np.uint8)\n",
    "    return Image.fromarray(image)\n",
    "\n",
    "def add_noise(image_tensor, t, beta_start=0.0001, beta_end=0.1, timesteps=None):\n",
    "    \"\"\"Add noise to the image tensor based on the diffusion timestep t.\"\"\"\n",
    "    betas = torch.linspace(beta_start, beta_end, timesteps)\n",
    "    \n",
    "    alphas = 1 - betas\n",
    "    alpha_t_bar = torch.prod(alphas[:t])\n",
    "    sqrt_alpha_t_bar = torch.sqrt(alpha_t_bar)\n",
    "    sqrt_one_minus_alpha_t_bar = torch.sqrt(1 - alpha_t_bar)\n",
    "    return image_tensor * sqrt_alpha_t_bar + torch.randn_like(image_tensor) * sqrt_one_minus_alpha_t_bar\n",
    "\n",
    "def save_image(image, path, name, t):\n",
    "    \"\"\"Save the image at a specific timestep.\"\"\"\n",
    "    if not os.path.exists(path):\n",
    "        os.makedirs(path)\n",
    "    filename = f'{path}/{name}_step_{t}.png'\n",
    "    image.save(filename)\n",
    "    print(f'Saved: {filename}')\n",
    "\n",
    "def diffusion_process(image_path, timesteps=10, save_path=None, image_size=256):\n",
    "    \"\"\"Simulate the diffusion process over a series of timesteps.\"\"\"\n",
    "    image = load_image(image_path, size=image_size)\n",
    "    image_tensor = image_to_tensor(image)\n",
    "\n",
    "    for t in np.linspace(0, timesteps-1):\n",
    "        if int(t) % 10 == 0:\n",
    "            t = int(t)\n",
    "            noised_image_tensor = add_noise(image_tensor, t, timesteps=timesteps)\n",
    "            noised_image = tensor_to_image(noised_image_tensor)\n",
    "            save_image(noised_image, save_path, 'noised_image', t)\n",
    "\n",
    "# Example usage:\n",
    "diffusion_process('/ceph/hdd/students/schmitj/MA_Diffusion_based_trajectory_prediction/figures/continuous_diffusion/IMG_6144.png', timesteps=100, save_path='/ceph/hdd/students/schmitj/MA_Diffusion_based_trajectory_prediction/figures/continuous_diffusion')\n"
   ]
  },
  {
   "cell_type": "markdown",
   "metadata": {},
   "source": [
    "# Noising Schedules"
   ]
  },
  {
   "cell_type": "code",
   "execution_count": 6,
   "metadata": {},
   "outputs": [
    {
     "name": "stdout",
     "output_type": "stream",
     "text": [
      "['Solarize_Light2', '_classic_test_patch', '_mpl-gallery', '_mpl-gallery-nogrid', 'bmh', 'classic', 'dark_background', 'fast', 'fivethirtyeight', 'ggplot', 'grayscale', 'seaborn-v0_8', 'seaborn-v0_8-bright', 'seaborn-v0_8-colorblind', 'seaborn-v0_8-dark', 'seaborn-v0_8-dark-palette', 'seaborn-v0_8-darkgrid', 'seaborn-v0_8-deep', 'seaborn-v0_8-muted', 'seaborn-v0_8-notebook', 'seaborn-v0_8-paper', 'seaborn-v0_8-pastel', 'seaborn-v0_8-poster', 'seaborn-v0_8-talk', 'seaborn-v0_8-ticks', 'seaborn-v0_8-white', 'seaborn-v0_8-whitegrid', 'tableau-colorblind10']\n"
     ]
    },
    {
     "data": {
      "image/png": "[encoded data removed]",
      "text/plain": [
       "<Figure size 400x200 with 1 Axes>"
      ]
     },
     "metadata": {},
     "output_type": "display_data"
    }
   ],
   "source": [
    "import torch\n",
    "def get_diffusion_betas(spec, device):\n",
    "    \"\"\"Get betas from the hyperparameters.\"\"\"\n",
    "    \n",
    "    if spec['type'] == 'linear':\n",
    "        # Used by Ho et al. for DDPM, https://arxiv.org/abs/2006.11239.\n",
    "        # To be used with Gaussian diffusion models in continuous and discrete\n",
    "        # state spaces.\n",
    "        # To be used with transition_mat_type = 'gaussian'\n",
    "        return torch.linspace(spec['start'], spec['stop'], spec['num_timesteps']).to(device)\n",
    "    \n",
    "    elif spec['type'] == 'cosine':\n",
    "        # Schedule proposed by Hoogeboom et al. https://arxiv.org/abs/2102.05379\n",
    "        # To be used with transition_mat_type = 'uniform'.\n",
    "        def cosine_beta_schedule(timesteps, s=0.008):\n",
    "            \"\"\"\n",
    "            Cosine schedule as described in https://arxiv.org/abs/2102.09672.\n",
    "\n",
    "            Parameters:\n",
    "            - timesteps: int, the number of timesteps for the schedule.\n",
    "            - s: float, small constant to prevent numerical issues.\n",
    "\n",
    "            Returns:\n",
    "            - betas: torch.Tensor, beta values for each timestep.\n",
    "            - alphas: torch.Tensor, alpha values for each timestep.\n",
    "            - alpha_bars: torch.Tensor, cumulative product of alphas for each timestep.\n",
    "            \"\"\"\n",
    "            steps = timesteps + 1\n",
    "            x = torch.linspace(0, timesteps, steps)\n",
    "            alphas_cumprod = torch.cos((x / timesteps + s) / (1 + s) * torch.pi * 0.5) ** 2\n",
    "            alphas_cumprod = alphas_cumprod / alphas_cumprod[0]\n",
    "\n",
    "            betas = 1 - alphas_cumprod[1:] / alphas_cumprod[:-1]\n",
    "            alphas = 1 - betas\n",
    "            alpha_bars = torch.cumprod(alphas, dim=0)\n",
    "\n",
    "            return betas, alphas, alpha_bars\n",
    "        betas, alphas, alpha_bars = cosine_beta_schedule(spec['num_timesteps'])\n",
    "        return betas.to(device)\n",
    "    \n",
    "    elif spec['type'] == 'jsd':  # 1/T, 1/(T-1), 1/(T-2), ..., 1\n",
    "        # Proposed by Sohl-Dickstein et al., https://arxiv.org/abs/1503.03585\n",
    "        # To be used with absorbing state models.\n",
    "        # ensures that the probability of decaying to the absorbing state\n",
    "        # increases linearly over time, and is 1 for t = T-1 (the final time).\n",
    "        # To be used with transition_mat_type = 'absorbing'\n",
    "        return 1. / torch.linspace(spec['num_timesteps'], 1, spec['num_timesteps']).to(device)\n",
    "    else:\n",
    "        raise NotImplementedError(spec['type'])\n",
    "    \n",
    "import matplotlib.pyplot as plt\n",
    "print(plt.style.available)\n",
    "plt.style.use('seaborn-v0_8-paper')  # or 'ggplot', 'fivethirtyeight', etc.\n",
    "plt.rcParams.update({\n",
    "    'axes.labelsize': 6,\n",
    "    'xtick.labelsize': 5,\n",
    "    'ytick.labelsize': 5,\n",
    "    'legend.fontsize': 5,\n",
    "    'figure.figsize': (4, 2),\n",
    "    'axes.grid': True,\n",
    "    'grid.alpha': 0.2\n",
    "})\n",
    "\n",
    "spec = {'type': 'cosine', 'start': 0.01, 'stop': 0.99, 'num_timesteps': 1000}\n",
    "betas = get_diffusion_betas(spec, 'cpu')\n",
    "alphas = 1 - betas\n",
    "alpha_bars = torch.cumprod(alphas, dim=0)\n",
    "t_over_T = torch.linspace(0, 1, spec['num_timesteps'])\n",
    "spec_linear = {'type': 'linear', 'start': 0.00001, 'stop': 0.02, 'num_timesteps': 1000}\n",
    "betas_linear = get_diffusion_betas(spec_linear, 'cpu')\n",
    "alphas_linear = 1 - betas_linear\n",
    "alpha_bars_linear = torch.cumprod(alphas_linear, dim=0)\n",
    "\n",
    "plt.plot(t_over_T, alpha_bars_linear, label='Linear')\n",
    "plt.plot(t_over_T, alpha_bars, label='Cosine')\n",
    "plt.xlabel(r'Diffusion Step ($t/T$)')\n",
    "plt.ylabel(r'$\\bar{\\alpha}_t$')\n",
    "plt.legend()\n",
    "plt.savefig('../figures/noising_schedule.pdf', format='pdf', bbox_inches='tight')\n",
    "plt.show()"
   ]
  },
  {
   "cell_type": "code",
   "execution_count": null,
   "metadata": {},
   "outputs": [],
   "source": []
  }
 ],
 "metadata": {
  "kernelspec": {
   "display_name": "d3pm",
   "language": "python",
   "name": "python3"
  },
  "language_info": {
   "codemirror_mode": {
    "name": "ipython",
    "version": 3
   },
   "file_extension": ".py",
   "mimetype": "text/x-python",
   "name": "python",
   "nbconvert_exporter": "python",
   "pygments_lexer": "ipython3",
   "version": "3.12.2"
  }
 },
 "nbformat": 4,
 "nbformat_minor": 2
}
